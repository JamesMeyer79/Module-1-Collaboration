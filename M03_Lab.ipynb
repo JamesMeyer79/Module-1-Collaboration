{
 "cells": [
  {
   "cell_type": "code",
   "execution_count": 8,
   "id": "2d6940df-90e0-4098-81dd-a422742e4f6c",
   "metadata": {},
   "outputs": [
    {
     "name": "stdout",
     "output_type": "stream",
     "text": [
      "Please enter details for your car:\n"
     ]
    },
    {
     "name": "stdin",
     "output_type": "stream",
     "text": [
      "Year: 2022\n",
      "Make: Ford\n",
      "Model: Mustang\n",
      "Please enter the amount of door (2 or 4):  2\n",
      "Type of roof (sunroof or solid):  sunroof\n"
     ]
    },
    {
     "name": "stdout",
     "output_type": "stream",
     "text": [
      "\n",
      "Car Details:\n",
      "Vehicle Type: car\n",
      "Vehicle Year: 2022\n",
      "Vehicle Model: Mustang\n",
      "Vehicle Doors: 2\n",
      "Vehicle Roof: sunroof\n"
     ]
    }
   ],
   "source": [
    "#Super Class\n",
    "class Vehicle:\n",
    "    def __init__(self, vehicle_type):\n",
    "        self.vehicle_type = vehicle_type\n",
    "\n",
    "class Automobile(Vehicle):\n",
    "    def __init__(self, year, make, model, doors, roof):  #Uses init to allow for change when the user enters each prompt.\n",
    "        super().__init__(\"car\")\n",
    "        self.year = year\n",
    "        self.make = make\n",
    "        self.model = model\n",
    "        self.doors = doors\n",
    "        self.roof = roof\n",
    "    def display_info(self): #Where everything will be displayed when display_info is called on.\n",
    "        print(f\"Vehicle Type: {self.vehicle_type}\")\n",
    "        print(f\"Vehicle Year: {self.year}\")\n",
    "        print(f\"Vehicle Model: {self.model}\")\n",
    "        print(f\"Vehicle Doors: {self.doors}\")\n",
    "        print(f\"Vehicle Roof: {self.roof}\")\n",
    "def main(): #Main portion of all inputs needed. \n",
    "    print(\"Please enter details for your car:\")\n",
    "    year = input(\"Year:\")\n",
    "    make = input(\"Make:\")\n",
    "    model = input(\"Model:\")\n",
    "\n",
    "    while True: #While loop to check if 2 or 4 is entered if not displays invalid input. \n",
    "        doors = input(\"Please enter the amount of door (2 or 4): \")\n",
    "        if doors in [\"2\",\"4\"]:\n",
    "            doors = int(doors)\n",
    "            break\n",
    "        else:\n",
    "            print(\"Invalid input please enter 2 or 4\")\n",
    "\n",
    "    while True: #Another while input to check to make sure the proper input is put in. \n",
    "        roof = input(\"Type of roof (sunroof or solid): \").lower()\n",
    "        if roof in [\"solid\", \"sunroof\"]:\n",
    "            break\n",
    "        else:\n",
    "            print(\"invalid input, Please input 'solid' or 'sunroof'\")\n",
    "    \n",
    "    car = Automobile(year,make,model,doors,roof) #Allows access to Automobile by using car.\n",
    "\n",
    "    print(\"\\nCar Details:\") #Prints each line for an easy to read format for the user.\n",
    "    car.display_info() #Calls upon the class automobile through car and display_info. \n",
    "\n",
    "if __name__ == \"__main__\": #Calls on the main function to start.\n",
    "    main()"
   ]
  },
  {
   "cell_type": "code",
   "execution_count": null,
   "id": "53e5542f-c5f9-4a3f-b443-d746e77c2b07",
   "metadata": {},
   "outputs": [],
   "source": []
  }
 ],
 "metadata": {
  "kernelspec": {
   "display_name": "Python 3 (ipykernel)",
   "language": "python",
   "name": "python3"
  },
  "language_info": {
   "codemirror_mode": {
    "name": "ipython",
    "version": 3
   },
   "file_extension": ".py",
   "mimetype": "text/x-python",
   "name": "python",
   "nbconvert_exporter": "python",
   "pygments_lexer": "ipython3",
   "version": "3.13.5"
  }
 },
 "nbformat": 4,
 "nbformat_minor": 5
}
