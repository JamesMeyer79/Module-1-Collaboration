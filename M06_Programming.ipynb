{
 "cells": [
  {
   "cell_type": "markdown",
   "id": "a470c0ff-505e-44de-87ed-3db4a695d4b2",
   "metadata": {},
   "source": [
    "13.1"
   ]
  },
  {
   "cell_type": "code",
   "execution_count": 11,
   "id": "11faef40-ae45-4e65-8a7f-25e074ee09e5",
   "metadata": {},
   "outputs": [],
   "source": [
    "from datetime import date\n",
    "today = date.today()\n",
    "\n",
    "with open(\"today.txt\", \"w\") as file:\n",
    "    file.write(str(today))"
   ]
  },
  {
   "cell_type": "markdown",
   "id": "b9f151ca-5d9e-469e-b478-d43a64334be0",
   "metadata": {},
   "source": [
    "13.2"
   ]
  },
  {
   "cell_type": "code",
   "execution_count": 12,
   "id": "39073046-6e41-4a52-91c8-0ba22c5f5459",
   "metadata": {},
   "outputs": [
    {
     "name": "stdout",
     "output_type": "stream",
     "text": [
      "2025-10-02\n"
     ]
    }
   ],
   "source": [
    "with open(\"today.txt\", \"r\") as file:\n",
    "    today_string = file.read()\n",
    "print(today_string)"
   ]
  },
  {
   "cell_type": "markdown",
   "id": "002422ca-119d-4bec-9822-d305357eabce",
   "metadata": {},
   "source": [
    "13.3"
   ]
  },
  {
   "cell_type": "code",
   "execution_count": 23,
   "id": "5a1d72f3-4fa3-44ba-871b-6793f5e8e36a",
   "metadata": {},
   "outputs": [
    {
     "name": "stdout",
     "output_type": "stream",
     "text": [
      "2025-10-02\n"
     ]
    }
   ],
   "source": [
    "import datetime \n",
    "fmt = \"It's %B %d, %Y.\"\n",
    "parsed_date = datetime.datetime.strptime(today_string, \"%Y-%m-%d\").date()\n",
    "\n",
    "print(parsed_date)"
   ]
  },
  {
   "cell_type": "markdown",
   "id": "013e8465-c282-4ec0-80b7-aa9853f6fb58",
   "metadata": {},
   "source": [
    "15.1"
   ]
  },
  {
   "cell_type": "code",
   "execution_count": null,
   "id": "88e53151-0fc3-4f89-b09d-ab9f52e2342c",
   "metadata": {},
   "outputs": [],
   "source": [
    "import multiprocessing as mp\n",
    "import time\n",
    "import random\n",
    "import datetime\n",
    "\n",
    "def time_worked():\n",
    "    delay = random.uniform(0,1)\n",
    "    time.sleep(delay)\n",
    "#prints the current process ending (P1,P2,P3), then displays the time down to the microsecond for calculation.\n",
    "    print(f\"Process {mp.current_process().name} time: {datetime.datetime.now().strftime('%H:%M:%S.%f')}\")\n",
    "\n",
    "if __name__ == \"__main__\":\n",
    "#This gives the name of each process and how many times the process should run.\n",
    "    processes = [mp.Process(target=time_worked, name = f\"P{i+1}\") for i in range(3)]\n",
    "#Runs each task concurrently to each other.\n",
    "    for p in processes:\n",
    "        p.start()\n",
    "\n",
    "    for p in processes:\n",
    "        p.join()\n",
    "        print(\"All processes have fi\n"
   ]
  }
 ],
 "metadata": {
  "kernelspec": {
   "display_name": "Python 3 (ipykernel)",
   "language": "python",
   "name": "python3"
  },
  "language_info": {
   "codemirror_mode": {
    "name": "ipython",
    "version": 3
   },
   "file_extension": ".py",
   "mimetype": "text/x-python",
   "name": "python",
   "nbconvert_exporter": "python",
   "pygments_lexer": "ipython3",
   "version": "3.13.5"
  }
 },
 "nbformat": 4,
 "nbformat_minor": 5
}
