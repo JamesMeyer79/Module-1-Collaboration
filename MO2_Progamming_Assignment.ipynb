{
 "cells": [
  {
   "cell_type": "markdown",
   "id": "60cf59da-e076-4525-adc9-4250e6553348",
   "metadata": {},
   "source": [
    "4.1"
   ]
  },
  {
   "cell_type": "code",
   "execution_count": 4,
   "id": "ba9b7d4f-d3c4-4399-ac01-f7c3f232a810",
   "metadata": {},
   "outputs": [
    {
     "name": "stdout",
     "output_type": "stream",
     "text": [
      "just right\n"
     ]
    }
   ],
   "source": [
    "secret = 6\n",
    "guess = 6\n",
    "if secret == guess:\n",
    "    print(\"just right\")\n",
    "elif secret > guess:\n",
    "    print(\"too low\")\n",
    "elif secret < guess:\n",
    "    print(\"too high\")\n",
    "else:\n",
    "    print(\"The number is invalid\")"
   ]
  },
  {
   "cell_type": "markdown",
   "id": "91ac64d3-0277-4a5d-b066-d702bbc43e8e",
   "metadata": {},
   "source": [
    "4.2"
   ]
  },
  {
   "cell_type": "code",
   "execution_count": 7,
   "id": "0d6714f1-1b19-4fe7-8118-a3879819e47f",
   "metadata": {},
   "outputs": [
    {
     "name": "stdout",
     "output_type": "stream",
     "text": [
      "It might be a pumpkin\n"
     ]
    }
   ],
   "source": [
    "small = False\n",
    "green = False\n",
    "\n",
    "if small:\n",
    "    if green:\n",
    "        print(\"It's a pea\")\n",
    "    else:\n",
    "        print(\"It's a cherry\")\n",
    "else:\n",
    "    if green:\n",
    "        print(\"It's a watermelon\")\n",
    "    else:\n",
    "        print(\"It might be a pumpkin\")\n",
    "    "
   ]
  },
  {
   "cell_type": "markdown",
   "id": "4616a9ae-ca10-4103-8e1c-76f1c60a53a9",
   "metadata": {},
   "source": [
    "6.1"
   ]
  },
  {
   "cell_type": "code",
   "execution_count": 9,
   "id": "46a02352-b43b-411a-91ce-c80586182a44",
   "metadata": {},
   "outputs": [
    {
     "name": "stdout",
     "output_type": "stream",
     "text": [
      "3\n",
      "2\n",
      "1\n",
      "0\n"
     ]
    }
   ],
   "source": [
    "numbers = [3,2,1,0]\n",
    "\n",
    "for number in numbers:\n",
    "    print(number)\n",
    "    "
   ]
  },
  {
   "cell_type": "markdown",
   "id": "9dfbb0fc-fdb9-4782-a350-aea20e287379",
   "metadata": {},
   "source": [
    "6.2"
   ]
  },
  {
   "cell_type": "code",
   "execution_count": 3,
   "id": "dcf43cc1-9e01-4546-b931-f2d4d27ada24",
   "metadata": {},
   "outputs": [
    {
     "name": "stdout",
     "output_type": "stream",
     "text": [
      "too low\n",
      "too low\n",
      "too low\n",
      "too low\n",
      "too low\n",
      "too low\n",
      "found it!\n"
     ]
    }
   ],
   "source": [
    "guess_me = 7\n",
    "number=1\n",
    "\n",
    "while True:\n",
    "    if number < guess_me:\n",
    "        print(\"too low\")\n",
    "    elif number == guess_me:\n",
    "        print(\"found it!\")\n",
    "        break\n",
    "    else:\n",
    "        print(\"oops\")\n",
    "        break\n",
    "    number += 1 \n",
    "\n",
    "        "
   ]
  },
  {
   "cell_type": "markdown",
   "id": "f3b36a79-380c-4e44-b8cb-f030bce46d8b",
   "metadata": {},
   "source": [
    "6.3"
   ]
  },
  {
   "cell_type": "code",
   "execution_count": 5,
   "id": "04f33b5a-ffb9-47ed-b784-b85ed9a4b147",
   "metadata": {},
   "outputs": [
    {
     "name": "stdout",
     "output_type": "stream",
     "text": [
      "too low\n",
      "too low\n",
      "too low\n",
      "too low\n",
      "too low\n",
      "too low\n",
      "too low\n",
      "too low\n",
      "too low\n",
      "too low\n"
     ]
    }
   ],
   "source": [
    "guess_me = 11 \n",
    "\n",
    "for number in range(10):\n",
    "    if number < guess_me:\n",
    "        print(\"too low\")\n",
    "    elif number == guess_me:\n",
    "        print(\"found it\")\n",
    "        break\n",
    "    else:\n",
    "        print(\"oops\")\n",
    "        break"
   ]
  },
  {
   "cell_type": "code",
   "execution_count": null,
   "id": "ba7094c9-7233-4cef-b167-e23ad15ac8e8",
   "metadata": {},
   "outputs": [],
   "source": []
  }
 ],
 "metadata": {
  "kernelspec": {
   "display_name": "Python 3 (ipykernel)",
   "language": "python",
   "name": "python3"
  },
  "language_info": {
   "codemirror_mode": {
    "name": "ipython",
    "version": 3
   },
   "file_extension": ".py",
   "mimetype": "text/x-python",
   "name": "python",
   "nbconvert_exporter": "python",
   "pygments_lexer": "ipython3",
   "version": "3.13.5"
  }
 },
 "nbformat": 4,
 "nbformat_minor": 5
}
