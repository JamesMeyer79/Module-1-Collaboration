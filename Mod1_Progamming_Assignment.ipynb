{
 "cells": [
  {
   "cell_type": "markdown",
   "id": "46f38511-fd6a-47cb-beb0-fcd8d21c7b7a",
   "metadata": {},
   "source": [
    "3.1/3.2"
   ]
  },
  {
   "cell_type": "code",
   "execution_count": 5,
   "id": "326a9d6e-7cd3-49db-ab7d-8eb37d5a862b",
   "metadata": {},
   "outputs": [],
   "source": [
    "seconds_per_hour = 60*60\n",
    "\n",
    "print(f\"There is {seconds_per_hour} seconds in one hour.\")"
   ]
  },
  {
   "cell_type": "markdown",
   "id": "f7ca510a-55fc-4629-8dc4-aa22ca4f29e3",
   "metadata": {},
   "source": [
    "3.3/3.4"
   ]
  },
  {
   "cell_type": "code",
   "execution_count": 6,
   "id": "c3a1621e-71a0-423e-b463-2febd8dde716",
   "metadata": {},
   "outputs": [
    {
     "name": "stdout",
     "output_type": "stream",
     "text": [
      "There is 86400 seconds in one day.\n"
     ]
    }
   ],
   "source": [
    "seconds_per_day = seconds_per_hour * 24\n",
    "\n",
    "print(f\"There is {seconds_per_day} seconds in one day.\")"
   ]
  },
  {
   "cell_type": "markdown",
   "id": "cfe0e9b1-890b-4c6d-9265-1f6cca6b8da0",
   "metadata": {},
   "source": [
    "3.5"
   ]
  },
  {
   "cell_type": "code",
   "execution_count": 8,
   "id": "dec95e62-3a52-4dd7-b4bb-6d005dc88dbd",
   "metadata": {},
   "outputs": [
    {
     "name": "stdout",
     "output_type": "stream",
     "text": [
      "24.0\n"
     ]
    }
   ],
   "source": [
    "divide = float(seconds_per_day/seconds_per_hour)\n",
    "\n",
    "print(divide)"
   ]
  },
  {
   "cell_type": "markdown",
   "id": "267dde39-30b3-4712-82a1-288611756c53",
   "metadata": {},
   "source": [
    "3.6"
   ]
  },
  {
   "cell_type": "code",
   "execution_count": 10,
   "id": "f69ed425-2834-477f-a17d-aa59d55902d9",
   "metadata": {},
   "outputs": [
    {
     "name": "stdout",
     "output_type": "stream",
     "text": [
      "24\n"
     ]
    }
   ],
   "source": [
    "divide_int = int(seconds_per_day//seconds_per_hour)\n",
    "\n",
    "print(divide_int)"
   ]
  },
  {
   "cell_type": "markdown",
   "id": "d85d2405-53b3-4d7e-9658-7d3fcd992aa1",
   "metadata": {},
   "source": [
    "Yes, the answer was the same between the two but with float it will add the decimal with a 0."
   ]
  }
 ],
 "metadata": {
  "kernelspec": {
   "display_name": "Python 3 (ipykernel)",
   "language": "python",
   "name": "python3"
  },
  "language_info": {
   "codemirror_mode": {
    "name": "ipython",
    "version": 3
   },
   "file_extension": ".py",
   "mimetype": "text/x-python",
   "name": "python",
   "nbconvert_exporter": "python",
   "pygments_lexer": "ipython3",
   "version": "3.13.5"
  }
 },
 "nbformat": 4,
 "nbformat_minor": 5
}
